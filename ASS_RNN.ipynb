{
 "cells": [
  {
   "cell_type": "code",
   "execution_count": 7,
   "id": "d5dd6f5c",
   "metadata": {},
   "outputs": [
    {
     "name": "stdout",
     "output_type": "stream",
     "text": [
      "AI: 0.2475\n",
      "will: 0.2513\n",
      "change: 0.2513\n",
      "future: 0.2499\n",
      "\n",
      "Expected word: future\n"
     ]
    }
   ],
   "source": [
    "import math\n",
    "import random\n",
    "\n",
    "data = [\"AI\", \"will\", \"change\", \"future\"]\n",
    "word_to_idx = {w: i for i, w in enumerate(data)}\n",
    "idx_to_word = {i: w for w, i in word_to_idx.items()}\n",
    "\n",
    "X = [word_to_idx[\"AI\"], word_to_idx[\"will\"], word_to_idx[\"change\"]]\n",
    "Y = word_to_idx[\"future\"]\n",
    "\n",
    "def one_hot(index, size):\n",
    "    vec = [0] * size\n",
    "    vec[index] = 1\n",
    "    return vec\n",
    "\n",
    "input_size = output_size = hidden_size = len(data)\n",
    "inputs = [one_hot(i, input_size) for i in X]\n",
    "target = one_hot(Y, output_size)\n",
    "\n",
    "def random_matrix(rows, cols):\n",
    "    return [[random.uniform(-0.1, 0.1) for _ in range(cols)] for _ in range(rows)]\n",
    "\n",
    "Wxh = random_matrix(hidden_size, input_size)  \n",
    "Whh = random_matrix(hidden_size, hidden_size)  \n",
    "Why = random_matrix(output_size, hidden_size)  \n",
    "bh = [0] * hidden_size\n",
    "by = [0] * output_size\n",
    "\n",
    "def matmul(A, B):\n",
    "    result = [[0]*len(B[0]) for _ in range(len(A))]\n",
    "    for i in range(len(A)):\n",
    "        for j in range(len(B[0])):\n",
    "            for k in range(len(B)):\n",
    "                result[i][j] += A[i][k] * B[k][j]\n",
    "    return result\n",
    "\n",
    "def add_vectors(v1, v2):\n",
    "    return [x + y for x, y in zip(v1, v2)]\n",
    "\n",
    "def tanh(x):\n",
    "    return [math.tanh(i) for i in x]\n",
    "\n",
    "def softmax(x):\n",
    "    e_x = [math.exp(i) for i in x]\n",
    "    sum_e = sum(e_x)\n",
    "    return [i/sum_e for i in e_x]\n",
    "\n",
    "h = [0] * hidden_size\n",
    "for t in range(len(inputs)):\n",
    "    x = inputs[t]\n",
    "    xh = [sum(x[i]*Wxh[j][i] for i in range(input_size)) for j in range(hidden_size)]\n",
    "    hh = [sum(h[i]*Whh[j][i] for i in range(hidden_size)) for j in range(hidden_size)]\n",
    "    h = tanh(add_vectors(add_vectors(xh, hh), bh))\n",
    "\n",
    "y = [sum(h[i]*Why[j][i] for i in range(hidden_size)) + by[j] for j in range(output_size)]\n",
    "pred = softmax(y)\n",
    "\n",
    "for i, p in enumerate(pred):\n",
    "    print(f\"{idx_to_word[i]}: {p:.4f}\")\n",
    "\n",
    "print(\"\\nExpected word:\", idx_to_word[Y])\n"
   ]
  },
  {
   "cell_type": "code",
   "execution_count": null,
   "id": "2dbff076",
   "metadata": {},
   "outputs": [],
   "source": []
  }
 ],
 "metadata": {
  "kernelspec": {
   "display_name": "Python 3 (ipykernel)",
   "language": "python",
   "name": "python3"
  },
  "language_info": {
   "codemirror_mode": {
    "name": "ipython",
    "version": 3
   },
   "file_extension": ".py",
   "mimetype": "text/x-python",
   "name": "python",
   "nbconvert_exporter": "python",
   "pygments_lexer": "ipython3",
   "version": "3.11.5"
  }
 },
 "nbformat": 4,
 "nbformat_minor": 5
}
