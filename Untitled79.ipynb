{
 "cells": [
  {
   "cell_type": "code",
   "execution_count": 1,
   "id": "dac593d2-d62e-42b6-aa22-76576f51e0d0",
   "metadata": {},
   "outputs": [
    {
     "name": "stdout",
     "output_type": "stream",
     "text": [
      "Random Weights: w1=-0.1254598811526375, w2=0.45071430640991617, w3=0.2319939418114051, w4=0.0986584841970366, w5=-0.3439813595575635, w6=-0.34400547966379735, w7=-0.44191638783180054, w8=0.3661761457749352\n",
      "Hidden Layer Outputs: h1=0.4753243188387696, h2=0.4872147174733912\n",
      "Output Layer Outputs: o1=0.31058173983520415, o2=0.6137354642661549\n"
     ]
    }
   ],
   "source": [
    "import numpy as np\n",
    "def tanh(x):\n",
    "    return np.tanh(x)\n",
    "\n",
    "np.random.seed(42)\n",
    "\n",
    "i1, i2 = 0.05, 0.10\n",
    "X = np.array([i1, i2])\n",
    "\n",
    "b1 = np.array([0.5, 0.5])  \n",
    "b2 = np.array([0.7, 0.7])  \n",
    "\n",
    "W1 = np.random.uniform(-0.5, 0.5, (2, 2)) \n",
    "W2 = np.random.uniform(-0.5, 0.5, (2, 2))  \n",
    "\n",
    "z1 = np.dot(X, W1) + b1\n",
    "h_output = tanh(z1)\n",
    "\n",
    "z2 = np.dot(h_output, W2) + b2\n",
    "o_output = tanh(z2)\n",
    "\n",
    "print(f\"Random Weights: w1={W1[0, 0]}, w2={W1[0, 1]}, w3={W1[1, 0]}, w4={W1[1, 1]}, w5={W2[0, 0]}, w6={W2[0, 1]}, w7={W2[1, 0]}, w8={W2[1, 1]}\")\n",
    "print(f\"Hidden Layer Outputs: h1={h_output[0]}, h2={h_output[1]}\")\n",
    "print(f\"Output Layer Outputs: o1={o_output[0]}, o2={o_output[1]}\")"
   ]
  },
  {
   "cell_type": "code",
   "execution_count": null,
   "id": "8bf14c4d-34b8-4653-85e7-a29a2b9a4547",
   "metadata": {},
   "outputs": [],
   "source": []
  }
 ],
 "metadata": {
  "kernelspec": {
   "display_name": "Python 3 (ipykernel)",
   "language": "python",
   "name": "python3"
  },
  "language_info": {
   "codemirror_mode": {
    "name": "ipython",
    "version": 3
   },
   "file_extension": ".py",
   "mimetype": "text/x-python",
   "name": "python",
   "nbconvert_exporter": "python",
   "pygments_lexer": "ipython3",
   "version": "3.12.7"
  }
 },
 "nbformat": 4,
 "nbformat_minor": 5
}
