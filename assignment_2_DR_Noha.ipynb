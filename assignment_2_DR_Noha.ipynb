{
 "cells": [
  {
   "cell_type": "code",
   "execution_count": 1,
   "id": "7368e230",
   "metadata": {},
   "outputs": [
    {
     "name": "stdout",
     "output_type": "stream",
     "text": [
      "Epoch 0, Loss: 0.4988826443223301\n",
      "Epoch 1000, Loss: 0.4927053022893687\n",
      "Epoch 2000, Loss: 0.4103282453072712\n",
      "Epoch 3000, Loss: 0.3457471772874079\n",
      "Epoch 4000, Loss: 0.17952139939879325\n",
      "Epoch 5000, Loss: 0.10566461454596901\n",
      "Epoch 6000, Loss: 0.07993445686359349\n",
      "Epoch 7000, Loss: 0.06635931669312742\n",
      "Epoch 8000, Loss: 0.05774643153194535\n",
      "Epoch 9000, Loss: 0.05169438719216704\n",
      "النتائج بعد التدريب:\n",
      "[[0.05158164 0.05127571]\n",
      " [0.95518038 0.95551704]\n",
      " [0.95456347 0.95490339]\n",
      " [0.04749558 0.04709992]]\n"
     ]
    }
   ],
   "source": [
    "import numpy as np\n",
    "def sigmoid(x):\n",
    "    return 1 / (1 + np.exp(-x))\n",
    "\n",
    "def sigmoid_derivative(x):\n",
    "    return x * (1 - x)\n",
    "\n",
    "inputs = np.array([[0, 0], [0, 1], [1, 0], [1, 1]])\n",
    "outputs = np.array([[0], [1], [1], [0]])\n",
    "\n",
    "np.random.seed(42)\n",
    "weights_input_hidden = np.random.rand(2, 2)\n",
    "weights_hidden_output = np.random.rand(2, 2)\n",
    "bias_hidden = np.random.rand(1, 2)\n",
    "bias_output = np.random.rand(1, 2)\n",
    "\n",
    "epochs = 10000\n",
    "learning_rate = 0.1\n",
    "\n",
    "for epoch in range(epochs):\n",
    "    hidden_layer_input = np.dot(inputs, weights_input_hidden) + bias_hidden\n",
    "    hidden_layer_output = sigmoid(hidden_layer_input)\n",
    "    \n",
    "    output_layer_input = np.dot(hidden_layer_output, weights_hidden_output) + bias_output\n",
    "    output_layer_output = sigmoid(output_layer_input)\n",
    "\n",
    "    error = outputs - output_layer_output\n",
    "    \n",
    "    d_output = error * sigmoid_derivative(output_layer_output)\n",
    "    error_hidden = d_output.dot(weights_hidden_output.T)\n",
    "    d_hidden = error_hidden * sigmoid_derivative(hidden_layer_output)\n",
    "\n",
    "    weights_hidden_output += hidden_layer_output.T.dot(d_output) * learning_rate\n",
    "    weights_input_hidden += inputs.T.dot(d_hidden) * learning_rate\n",
    "    bias_output += np.sum(d_output, axis=0, keepdims=True) * learning_rate\n",
    "    bias_hidden += np.sum(d_hidden, axis=0, keepdims=True) * learning_rate\n",
    "\n",
    "    if epoch % 1000 == 0:\n",
    "        loss = np.mean(np.abs(error))\n",
    "        print(f\"Epoch {epoch}, Loss: {loss}\")\n",
    "\n",
    "print(\"Final results after training:\")\n",
    "print(output_layer_output)"
   ]
  },
  {
   "cell_type": "code",
   "execution_count": null,
   "id": "65b1b330",
   "metadata": {},
   "outputs": [],
   "source": []
  }
 ],
 "metadata": {
  "kernelspec": {
   "display_name": "Python 3 (ipykernel)",
   "language": "python",
   "name": "python3"
  },
  "language_info": {
   "codemirror_mode": {
    "name": "ipython",
    "version": 3
   },
   "file_extension": ".py",
   "mimetype": "text/x-python",
   "name": "python",
   "nbconvert_exporter": "python",
   "pygments_lexer": "ipython3",
   "version": "3.11.5"
  }
 },
 "nbformat": 4,
 "nbformat_minor": 5
}
